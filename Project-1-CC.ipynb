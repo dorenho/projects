{
 "cells": [
  {
   "cell_type": "markdown",
   "metadata": {},
   "source": [
    "<img src=\"http://imgur.com/1ZcRyrc.png\" style=\"float: left; margin: 20px; height: 55px\">\n",
    "\n",
    "# Project 1: Python Coding Exercises\n",
    "\n",
    "_Authors: Joseph Nelson (DC) _\n",
    "\n",
    "---"
   ]
  },
  {
   "cell_type": "markdown",
   "metadata": {},
   "source": [
    "The following code challenges are drawn from common exercises used in technical interviews.\n",
    "\n",
    "Please note that there may be several ways to approach each challenge. If you get stuck, try mapping out your approach in pseudocode first. Finally, while solutions to problems like these may be found online, remember that if you copy/paste code that you can't explain, you'll be missing out on the point of the project. The only way to truly learn a new skill is through practice, trial, and error - we can only help you improve by understanding where you are having trouble."
   ]
  },
  {
   "cell_type": "markdown",
   "metadata": {},
   "source": [
    "### Challenge 1: Largest Palindrome\n",
    "A palindromic number reads the same both ways. For example, 1234321 is a palindrome. The largest palindrome made from the product of two two-digit numbers is 9009 = 91 × 99. Find the largest palindrome made from the product of two three-digit numbers. Afterward, write a brief explanation walking through your code's logic in markdown."
   ]
  },
  {
   "cell_type": "markdown",
   "metadata": {},
   "source": [
    "### Explanation"
   ]
  },
  {
   "cell_type": "markdown",
   "metadata": {},
   "source": [
    "### Part 1\n",
    "Define the first function check_palindrome to check whether a number is a palindrome, by passing the number (product) to the function as parameter. \n",
    "\n",
    "Step 1: Convert a number into a string (string_original) using str() function. \n",
    "\n",
    "Step 2: Create an empty string (string_reverse). string_reverse will store the result of reversing a string. \n",
    "\n",
    "Step 3: Reverse string_original. This is done by iterating over the string from its last character to its first character using a for loop with the following parameters, and storing each character in string_reverse. \n",
    "\n",
    "start in for loop: len(string_original) - 1) corresponds to the last character in string_original\n",
    "stop in for loop: -1 means looping up to the first character in string_original\n",
    "step in for loop: -1 refers to the direction from the last character to the first character in string_original\n",
    "\n",
    "Step 4: Check if reversing product leads to the same number. If the condition is True, the function exits and returns True. Otherwise, the function exits and returns False.   "
   ]
  },
  {
   "cell_type": "markdown",
   "metadata": {},
   "source": [
    "### Part 2\n",
    "\n",
    "Define the second function get_max_palindrome to get the largest palindrome from the product of two three-digit numbers. There is no passing of parameter as all of the parameters used in this function can be defined. \n",
    "\n",
    "Step 1: Initialise a variable palindrome by assigning 100*100 to it. This is the smallest product of two three-digit numbers, and is not a palindrome. This variable is used to check whether a palindrome product exists or not in the subsequent steps. \n",
    "\n",
    "Step 2: Generate each product of two three-digit numbers i and j, beginning from the largest three-digit number (and hence the largest product). This is done by nesting for loop iteration over a sequence of numbers starting from 999 to 100 with the following parameters. \n",
    "\n",
    "For both outer and inner for loops:\n",
    "start in for loop: 999 corresponds to the largest three-digit number\n",
    "stop in for loop: 99 means looping up to the smallest three-digit number 100\n",
    "step in for loop: -1 refers to the decrement from 999 \n",
    "\n",
    "After each calculation of product (i * j), check if it is a palindrome by calling the function check_palindrome and passing along i * j. At the same time, check if it is greater than the initialised value 100*100 of palindrome. Both of these steps are done using and operator in an if statement nested within the inner for loop. \n",
    "\n",
    "If both conditions are True, assign i * j to palindrome. \n",
    "- palindrome is no longer 100*100 now, and there exists at least one palindrome product. \n",
    "\n",
    "Otherwise, do nothing and then start Step 2 using the next value of j in the inner for loop. \n",
    "- palindrome remains as 100*100, and a palindrome product has not been found yet.\n",
    "\n",
    "Given a value of i, after iterating over the entire range of values of j and performing the nested if statements in the inner for loop, iterate to the next value of i in the outer for loop and iterate from the first value in the range of values of j in the inner for loop. \n",
    "\n",
    "The final outcome of Step 2 is either the largest value of palindrome product stored in palindrome, or the initialised value of 100*100.  \n",
    "\n",
    "Step 3: Check if palindrome is greater than the initialised value of 100*100. If the condition is True, the function exits and returns palindrome, which is the largest palindrome product. Otherwise, it means that palindrome still remains as the initialised value of 100*100, and all i * j are not palindromes. The function exits and returns a message ‘No palindrome exists.’. \n",
    "\n",
    "Finally, call the function get_max_palindrome without passing any parameter. Print the final result. "
   ]
  },
  {
   "cell_type": "code",
   "execution_count": 1,
   "metadata": {},
   "outputs": [
    {
     "name": "stdout",
     "output_type": "stream",
     "text": [
      "906609\n"
     ]
    }
   ],
   "source": [
    "def check_palindrome(product):\n",
    "    string_original = str(product)\n",
    "    string_reverse = ''\n",
    "    \n",
    "    for i in range (len(string_original) - 1, -1, -1):\n",
    "        string_reverse += string_original[i]\n",
    "\n",
    "    return string_reverse == string_original\n",
    "\n",
    "\n",
    "def get_max_palindrome():\n",
    "    palindrome = 100**2\n",
    "    \n",
    "    for i in range (999, 99, -1):\n",
    "        for j in range (999, 99, -1):\n",
    "            if check_palindrome(i * j) and i * j > palindrome:\n",
    "                palindrome = i * j\n",
    "    \n",
    "    if palindrome > 100**2: return palindrome\n",
    "    \n",
    "    return 'No palindrome exists.'\n",
    "\n",
    "\n",
    "print(get_max_palindrome())"
   ]
  },
  {
   "cell_type": "markdown",
   "metadata": {},
   "source": [
    "\n",
    "### Challenge 2: Summation of Primes\n",
    "The sum of the primes below 10 is 2 + 3 + 5 + 7 = 17. Find the sum of all the primes below 2,000. Afterward, write a brief explanation walking through your code's logic in markdown."
   ]
  },
  {
   "cell_type": "markdown",
   "metadata": {},
   "source": [
    "### Explanation"
   ]
  },
  {
   "cell_type": "markdown",
   "metadata": {},
   "source": [
    "### Part 1\n",
    "\n",
    "Define a function check_prime to check whether a number is a prime, by passing the number (number) to the function as parameter. \n",
    "\n",
    "Step 1: Check if number is less than 2, as the smallest prime is 2. If the condition is True, the function exits and returns the message “The number is neither a prime nor composite.”. Otherwise, number is either a prime or composite and proceed to Step 2. \n",
    "\n",
    "Step 2: Check if number is divisible by any value smaller than itself except 1. Using each possible integer i ranging from 2 to one that is just smaller than number, check if dividing number by i produces 0 remainder. This is done by iterating over a sequence of values i starting from 2 to the largest integer smaller than number using a for loop with the following parameters. \n",
    "\n",
    "start in for loop: 2 corresponds to the smallest possible divisor. \n",
    "stop in for loop: number means looping up to the largest possible divisor. \n",
    "step in for loop: blank. Default is increment of 1. \n",
    "\n",
    "If the condition is True, number is divisible by at least one integer smaller than itself (except 2) and is thus a composite. The function exits and returns False. Otherwise, number is not divisible by any integer smaller than itself (except 2) and is thus a prime. The function exits and returns True. "
   ]
  },
  {
   "cell_type": "markdown",
   "metadata": {},
   "source": [
    "### Part 2\n",
    "Initialise a variable sum_primes by assigning 0 to it. This is the smallest sum of primes that occurs when there is no prime at all. This variable is used to sum all available primes in the subsequent steps. \n",
    "\n",
    "Look for all possible primes below 2000. This is done by iterating over a sequence of values j starting from 2 to 1999 using a for loop with the following parameters. \n",
    "\n",
    "start in for loop: 2 corresponds to the smallest prime. \n",
    "stop in for loop: 2000 means looping up to the largest possible integer below 2000, 1999. \n",
    "step in for loop: blank. Default is increment of 1. \n",
    "\n",
    "Using an if statement nested within the for loop, check if j is prime, by calling the function check_prime and passing along j. \n",
    "\n",
    "If the condition is True, add j to sum_primes, and it is done by assigning the sum of j and the previously stored value of sum_primes to sum_primes. \n",
    "- sum_primes is greater than 0 now, and there exists at least one prime below 2000. \n",
    "\n",
    "Otherwise, do nothing. Then, call the function check_prime and pass along the next value of j. \n",
    "- sum_primes remains as 0, and a prime has not been found yet. \n",
    "\n",
    "The final value stored in sum_primes is either greater than 0 or the initialised value of 0.\n",
    "\n",
    "Finally, print the final result."
   ]
  },
  {
   "cell_type": "code",
   "execution_count": 2,
   "metadata": {},
   "outputs": [
    {
     "name": "stdout",
     "output_type": "stream",
     "text": [
      "277050\n"
     ]
    }
   ],
   "source": [
    "def check_prime(number):\n",
    "    if number < 2: return \"The number is neither a prime nor composite.\"\n",
    "    \n",
    "    for i in range(2, number):\n",
    "        if number % i == 0:\n",
    "            return False\n",
    "    \n",
    "    return True\n",
    "\n",
    "sum_primes = 0\n",
    "\n",
    "for j in range(2, 2000):\n",
    "    if check_prime(j):\n",
    "        sum_primes += j\n",
    "\n",
    "print(sum_primes)"
   ]
  },
  {
   "cell_type": "markdown",
   "metadata": {},
   "source": [
    "### Challenge 3: Multiples of 3 and 5\n",
    "If we list all of the natural numbers below 10 that are multiples of 3 or 5, we get 3, 5, 6, and 9. The sum of these multiples is 23. Find the sum of all the multiples of 3 and 5 below 1,000. Afterward, write a brief explanation walking through your code's logic in markdown."
   ]
  },
  {
   "cell_type": "markdown",
   "metadata": {},
   "source": [
    "### Explanation"
   ]
  },
  {
   "cell_type": "markdown",
   "metadata": {},
   "source": [
    "Initialise a variable sum_multiples by assigning 0 to it. This is the smallest sum of multiples of 3 and 5 that occurs when there is no such multiple at all. This variable is used to sum all such multiples available in the subsequent steps. \n",
    "\n",
    "Look for all possible such multiples below 1000. Using each possible value ranging from 15 to 999 in a for loop, check if dividing value by 3 and 5 produces 0 remainder.\n",
    "\n",
    "start in for loop: 15 corresponds to the smallest multiple of 3 and 5. \n",
    "stop in for loop: 1000 means looping up to the largest possible integer below 1000, 999. \n",
    "step in for loop: blank. Default is increment of 1. \n",
    "\n",
    "If the condition is True, add value to sum_multiples, and it is done by assigning the sum of value and the previously stored value of sum_multiples to sum_multiples. \n",
    "- sum_multiples is greater than 0 now, and there exists at least one such multiple below 1000. \n",
    "\n",
    "Otherwise, do nothing. Then, iterate over to the next value and check if it is a multiple. \n",
    "- sum_multiples remains as 0, and a multiple has not been found yet. \n",
    "\n",
    "The final value stored in sum_multiples is either greater than 0 or the initialised value of 0.\n",
    "\n",
    "Finally, print the final result."
   ]
  },
  {
   "cell_type": "code",
   "execution_count": 3,
   "metadata": {},
   "outputs": [
    {
     "name": "stdout",
     "output_type": "stream",
     "text": [
      "33165\n"
     ]
    }
   ],
   "source": [
    "sum_multiples = 0\n",
    "\n",
    "for value in range(15, 1000):\n",
    "    if value % 3 == 0 and value % 5 ==0:\n",
    "        sum_multiples += value\n",
    "\n",
    "print(sum_multiples)"
   ]
  },
  {
   "cell_type": "markdown",
   "metadata": {},
   "source": [
    "### Challenge 4: String Compressor\n",
    "Implement a method to perform basic string compression using the counts of repeated characters. (This is called run-length encoding.) For example, the string \"aabcccccaaa\" would become a2b1c5a3. If the “compressed” string would not become smaller than the original string, your method should return the original string. You can assume the string has only uppercase and lowercase letters (a–z). Specify whether your solution is case sensitive or case insensitive and what you would need to change to make it the other. Afterward, write a brief explanation walking through your code's logic in markdown."
   ]
  },
  {
   "cell_type": "markdown",
   "metadata": {},
   "source": [
    "### Explanation"
   ]
  },
  {
   "cell_type": "markdown",
   "metadata": {},
   "source": [
    "### Part 1\n",
    "\n",
    "Define the first function compress_string to compress a string (string_working) that is passed to the function as parameter. \n",
    "\n",
    "Step 1: Create an empty string (string_compressed). string_compressed will store the result of compressing a string. \n",
    "\n",
    "Initialise a variable i by assigning 1 to it. This variable is used to index character in a string in subsequent steps. \n",
    "\n",
    "Initialise another variable count_repeated_char by assigning 1 to it. This variable is used to count repeated consecutive characters in a string in subsequent steps. \n",
    "\n",
    "Step 2: Check if the second character (i = 1) is same as the first character (i -1 = 0) in string_working. \n",
    "\n",
    "If the condition is True, the second character is a repeat of the first character. Increase the repeated character count by assigning the sum of 1 and count_repeated_char to count_repeated_char. \n",
    "- count_repeated_char is 2 now, and there exists at least 2 repeated consecutive characters.\n",
    "\n",
    "Otherwise, add the first character into string_compressed, and add the count of this character (which is 1) as a string character next to the first character. \n",
    "- count_repeated_char remains as 1 now, and a repeated consecutive character has not been found yet. \n",
    "\n",
    "Then, move on to check if the third character (i = 2) is same as the second character. This is done by increasing i by 1 by assigning the sum of 1 and i to i. Repeat from the start of Step 2 with i = 2 now. Continue performing the step till the last character (i = len(string_working) - 1). \n",
    "\n",
    "For example, if the second last character is different from the third last character, then at the last character: \n",
    "\n",
    "(1) If the last character is same as the second last character, the count of this repeated character is increased by 1. Then, when i is increased to len(string_working), this breaks the while loop. The final string compression step is adding the second last character and its repeated character count (which is 2 now) to the latest stored string_compressed. The function exits and returns string_compressed. \n",
    "\n",
    "(2) If the last character is different from the second last character, the second last character and its repeated character count are added to the latest stored string_compressed. count_repeated_char is reset to 1, reflecting that the last character begins a fresh count. Then, when i is increased to len(string_working), this breaks the while loop. The final string compression step is adding the last character and its repeated character count (which is 1 now) to the latest stored string_compressed. The function exits and returns string_compressed.  "
   ]
  },
  {
   "cell_type": "markdown",
   "metadata": {},
   "source": [
    "### Part 2\n",
    "\n",
    "Define the second function string_output to return the intended string outcome. string_original is passed to the function as parameter. \n",
    "\n",
    "Step 1: Cater to case sensitive and case insensitive solution. For case sensitive solution, assign the original string to string_working. For case insensitive solution, return a string where all characters are lower case and assign it to string_working. \n",
    "\n",
    "Step 2: Check if the compressed string is shorter than the original string. If the condition is True, the function exits and returns the compressed string. Otherwise, the function exits and returns the original string. \n",
    "\n",
    "Finally, call the function string_output by passing a string. Print the final result."
   ]
  },
  {
   "cell_type": "code",
   "execution_count": 4,
   "metadata": {},
   "outputs": [
    {
     "name": "stdout",
     "output_type": "stream",
     "text": [
      "a3b1c4d1\n"
     ]
    }
   ],
   "source": [
    "def compress_string(string_working):\n",
    "    string_compressed = ''\n",
    "    i = 1\n",
    "    count_repeated_char = 1\n",
    "    \n",
    "    while i < len(string_working):\n",
    "        if string_working[i] == string_working[i-1]:\n",
    "            count_repeated_char += 1\n",
    "        else:\n",
    "            string_compressed = string_compressed + string_working[i-1] + str(count_repeated_char)\n",
    "            count_repeated_char = 1 \n",
    "            \n",
    "        i += 1\n",
    "    string_compressed = string_compressed + string_working[i-1] + str(count_repeated_char)\n",
    "    \n",
    "    return string_compressed\n",
    "\n",
    "\n",
    "def string_output(string_original):\n",
    "     \n",
    "    string_working = string_original.lower()   # uncomment for case insensitive solution \n",
    "    #string_working = string_original           # uncomment for case sensitive solution\n",
    "        \n",
    "    \n",
    "    if len(compress_string(string_working)) < len(string_original):\n",
    "        return compress_string(string_working)\n",
    "    else:\n",
    "        return string_original\n",
    "\n",
    "print(string_output('aAABccccd'))"
   ]
  },
  {
   "cell_type": "markdown",
   "metadata": {},
   "source": [
    "### *BONUS* Challenge: FizzBuzz\n",
    "Write a program that prints all of the numbers from 1 to 100. For multiples of 3, instead of the number, print \"Fizz;\" for multiples of 5, print \"Buzz.\" For numbers that are multiples of both 3 and 5, print \"FizzBuzz.\" Afterward, write a brief explanation walking through your code's logic in markdown."
   ]
  },
  {
   "cell_type": "markdown",
   "metadata": {},
   "source": [
    "### Explanation"
   ]
  },
  {
   "cell_type": "markdown",
   "metadata": {},
   "source": [
    "Look for all possible multiples from 1 to 100. This is done by iterating over a sequence of number starting from 1 to 100 using a for loop with the following parameters. \n",
    "\n",
    "start in for loop: 1 \n",
    "stop in for loop: 101 means looping up to the largest possible integer below 101, 100. \n",
    "step in for loop: blank. Default is increment of 1. \n",
    "\n",
    "Using an if-elif-else statement nested within the for loop, \n",
    "- Check if number is a multiple of both 3 and 5. If the condition is True, print ‘FizzBuzz’. Then, iterate over to the next number. \n",
    "- Otherwise, check if number is a multiple of 3 (i.e. not a multiple of 5 as it failed the “if” check). If the condition is True, print ‘Fizz’. Then, iterate over to the next number.\n",
    "- Otherwise, check if number is a multiple of 5 (i.e. not a multiple of 3 as it failed the first “elif” check). If the condition is True, print ‘Buzz’. Then, iterate over to the next number.\n",
    "- Otherwise, number is not a multiple of 3, 5 and both 3 and 5. Print number. Then, iterate over to the next number. "
   ]
  },
  {
   "cell_type": "code",
   "execution_count": 5,
   "metadata": {},
   "outputs": [
    {
     "name": "stdout",
     "output_type": "stream",
     "text": [
      "1\n",
      "2\n",
      "Fizz\n",
      "4\n",
      "Buzz\n",
      "Fizz\n",
      "7\n",
      "8\n",
      "Fizz\n",
      "Buzz\n",
      "11\n",
      "Fizz\n",
      "13\n",
      "14\n",
      "FizzBuzz\n",
      "16\n",
      "17\n",
      "Fizz\n",
      "19\n",
      "Buzz\n",
      "Fizz\n",
      "22\n",
      "23\n",
      "Fizz\n",
      "Buzz\n",
      "26\n",
      "Fizz\n",
      "28\n",
      "29\n",
      "FizzBuzz\n",
      "31\n",
      "32\n",
      "Fizz\n",
      "34\n",
      "Buzz\n",
      "Fizz\n",
      "37\n",
      "38\n",
      "Fizz\n",
      "Buzz\n",
      "41\n",
      "Fizz\n",
      "43\n",
      "44\n",
      "FizzBuzz\n",
      "46\n",
      "47\n",
      "Fizz\n",
      "49\n",
      "Buzz\n",
      "Fizz\n",
      "52\n",
      "53\n",
      "Fizz\n",
      "Buzz\n",
      "56\n",
      "Fizz\n",
      "58\n",
      "59\n",
      "FizzBuzz\n",
      "61\n",
      "62\n",
      "Fizz\n",
      "64\n",
      "Buzz\n",
      "Fizz\n",
      "67\n",
      "68\n",
      "Fizz\n",
      "Buzz\n",
      "71\n",
      "Fizz\n",
      "73\n",
      "74\n",
      "FizzBuzz\n",
      "76\n",
      "77\n",
      "Fizz\n",
      "79\n",
      "Buzz\n",
      "Fizz\n",
      "82\n",
      "83\n",
      "Fizz\n",
      "Buzz\n",
      "86\n",
      "Fizz\n",
      "88\n",
      "89\n",
      "FizzBuzz\n",
      "91\n",
      "92\n",
      "Fizz\n",
      "94\n",
      "Buzz\n",
      "Fizz\n",
      "97\n",
      "98\n",
      "Fizz\n",
      "Buzz\n"
     ]
    }
   ],
   "source": [
    "for number in range(1,101):\n",
    "    \n",
    "    if number % 3 == 0 and number % 5 == 0:\n",
    "        print('FizzBuzz')\n",
    "        \n",
    "    elif number % 3 == 0:\n",
    "        print('Fizz')\n",
    "        \n",
    "    elif number % 5 ==0:\n",
    "        print('Buzz')\n",
    "        \n",
    "    else:\n",
    "        print(number)"
   ]
  }
 ],
 "metadata": {
  "anaconda-cloud": {},
  "kernelspec": {
   "display_name": "Python 3",
   "language": "python",
   "name": "python3"
  },
  "language_info": {
   "codemirror_mode": {
    "name": "ipython",
    "version": 3
   },
   "file_extension": ".py",
   "mimetype": "text/x-python",
   "name": "python",
   "nbconvert_exporter": "python",
   "pygments_lexer": "ipython3",
   "version": "3.7.3"
  }
 },
 "nbformat": 4,
 "nbformat_minor": 2
}
